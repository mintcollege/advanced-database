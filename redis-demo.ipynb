{
 "cells": [
  {
   "cell_type": "code",
   "id": "initial_id",
   "metadata": {
    "collapsed": true,
    "ExecuteTime": {
     "end_time": "2025-05-07T07:20:28.751419Z",
     "start_time": "2025-05-07T07:20:28.739675Z"
    }
   },
   "source": [
    "import redis\n",
    "import json\n",
    "\n",
    "r = redis.Redis(host='localhost', port=6379)"
   ],
   "outputs": [],
   "execution_count": 11
  },
  {
   "metadata": {
    "ExecuteTime": {
     "end_time": "2025-05-07T07:26:30.800226Z",
     "start_time": "2025-05-07T07:26:30.786392Z"
    }
   },
   "cell_type": "code",
   "source": [
    "nic = {\n",
    "    'name': 'Nic',\n",
    "    'email': 'nic@gmail.com',\n",
    "    'grades': [\n",
    "        {\n",
    "            'year': 1,\n",
    "            'grades': []\n",
    "        }\n",
    "    ]\n",
    "}\n",
    "\n",
    "# r.hset('user:1', mapping=nic)\n",
    "\n",
    "# Save dict as json string\n",
    "nic_str = json.dumps(nic)\n",
    "nic_str"
   ],
   "id": "afd5a6db9fa6ed2f",
   "outputs": [
    {
     "data": {
      "text/plain": [
       "'{\"name\": \"Nic\", \"email\": \"nic@gmail.com\", \"grades\": [{\"year\": 1, \"grades\": []}]}'"
      ]
     },
     "execution_count": 18,
     "metadata": {},
     "output_type": "execute_result"
    }
   ],
   "execution_count": 18
  },
  {
   "metadata": {
    "ExecuteTime": {
     "end_time": "2025-05-07T07:26:32.767299Z",
     "start_time": "2025-05-07T07:26:32.756648Z"
    }
   },
   "cell_type": "code",
   "source": [
    "# r.hgetall('user:1')\n",
    "r.set('user:1', nic_str)\n"
   ],
   "id": "c8bffc5c00d1d27c",
   "outputs": [
    {
     "data": {
      "text/plain": [
       "True"
      ]
     },
     "execution_count": 19,
     "metadata": {},
     "output_type": "execute_result"
    }
   ],
   "execution_count": 19
  },
  {
   "metadata": {
    "ExecuteTime": {
     "end_time": "2025-05-07T07:27:28.208873Z",
     "start_time": "2025-05-07T07:27:28.193609Z"
    }
   },
   "cell_type": "code",
   "source": [
    "# r.keys()\n",
    "\n",
    "# Get json string as dict\n",
    "nic_str = r.get('user:1')\n",
    "nic = json.loads(nic_str)\n",
    "type(nic)"
   ],
   "id": "f90ec141542876",
   "outputs": [
    {
     "data": {
      "text/plain": [
       "dict"
      ]
     },
     "execution_count": 22,
     "metadata": {},
     "output_type": "execute_result"
    }
   ],
   "execution_count": 22
  },
  {
   "metadata": {},
   "cell_type": "code",
   "outputs": [],
   "execution_count": null,
   "source": [
    "r.sadd()\n",
    "r.incrby"
   ],
   "id": "c968859fdf6ffa7d"
  }
 ],
 "metadata": {
  "kernelspec": {
   "display_name": "Python 3",
   "language": "python",
   "name": "python3"
  },
  "language_info": {
   "codemirror_mode": {
    "name": "ipython",
    "version": 2
   },
   "file_extension": ".py",
   "mimetype": "text/x-python",
   "name": "python",
   "nbconvert_exporter": "python",
   "pygments_lexer": "ipython2",
   "version": "2.7.6"
  }
 },
 "nbformat": 4,
 "nbformat_minor": 5
}
